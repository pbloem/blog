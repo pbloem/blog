{
 "cells": [
  {
   "cell_type": "code",
   "execution_count": 1,
   "metadata": {},
   "outputs": [],
   "source": [
    "import numpy as np\n",
    "import matplotlib as mpl\n",
    "import matplotlib.pyplot as plt\n"
   ]
  },
  {
   "cell_type": "code",
   "execution_count": 2,
   "metadata": {},
   "outputs": [],
   "source": [
    "\n",
    "EPS = 10e-7\n",
    "\n",
    "def versiona(x):\n",
    "    return (1 - 2 * x)/ np.log((1/x) - 1)\n"
   ]
  },
  {
   "cell_type": "code",
   "execution_count": 53,
   "metadata": {},
   "outputs": [],
   "source": [
    "def logz_old(z):\n",
    "    za = np.abs(z)\n",
    "    eza = np.exp(-za)\n",
    "    return - np.log(za) + np.log1p(-eza + EPS) - np.log1p(eza + EPS)\n",
    "\n",
    "def logz(z):\n",
    "    za = np.abs(z)\n",
    "    eza = np.exp(-za)\n",
    "    return np.log1p(-eza + EPS) + np.log1p(eza + EPS) + za -np.log(za)\n",
    "\n",
    "\n",
    "def sigmoid(x):\n",
    "    return 1 / (1 + np.exp(-x))\n",
    "\n",
    "def invsig(x):\n",
    "     return np.log(x / (1-x))\n",
    "    \n",
    "def dinvsig(x):\n",
    "     return 1/(x-x*x)\n",
    "    "
   ]
  },
  {
   "cell_type": "code",
   "execution_count": 4,
   "metadata": {},
   "outputs": [
    {
     "name": "stderr",
     "output_type": "stream",
     "text": [
      "/Users/Peter/anaconda/envs/pytorch4/lib/python3.6/site-packages/ipykernel_launcher.py:16: RuntimeWarning: divide by zero encountered in true_divide\n",
      "  app.launch_new_instance()\n",
      "/Users/Peter/anaconda/envs/pytorch4/lib/python3.6/site-packages/ipykernel_launcher.py:16: RuntimeWarning: divide by zero encountered in log\n",
      "  app.launch_new_instance()\n",
      "/Users/Peter/anaconda/envs/pytorch4/lib/python3.6/site-packages/ipykernel_launcher.py:9: RuntimeWarning: invalid value encountered in subtract\n",
      "  if __name__ == '__main__':\n"
     ]
    },
    {
     "data": {
      "image/png": "[encoded data removed]",
      "text/plain": [
       "<Figure size 432x288 with 1 Axes>"
      ]
     },
     "metadata": {
      "needs_background": "light"
     },
     "output_type": "display_data"
    }
   ],
   "source": [
    "x = np.linspace(0, 1, 1000)\n",
    "\n",
    "plt.plot(x, logz(invsig(x)), '--', ':');\n"
   ]
  },
  {
   "cell_type": "code",
   "execution_count": 5,
   "metadata": {},
   "outputs": [
    {
     "data": {
      "image/png": "[encoded data removed]",
      "text/plain": [
       "<Figure size 432x288 with 1 Axes>"
      ]
     },
     "metadata": {
      "needs_background": "light"
     },
     "output_type": "display_data"
    }
   ],
   "source": [
    "N = 1000\n",
    "\n",
    "x = np.linspace(0.05, 0.95, 1000)\n",
    "a = np.linspace(0.05, 0.95, 1000)[:, None]\n",
    "r = np.random.rand(1, N)\n",
    "\n",
    "y1 = a ** (-r) \n",
    "y2 = (1-a) ** -(1-r)\n",
    "y = y1 * y2\n",
    "\n",
    "res = y.mean(axis=1)\n",
    "\n",
    "plt.plot(a, res, x, np.exp(logz(invsig(x))), '--', ':');\n"
   ]
  },
  {
   "cell_type": "code",
   "execution_count": 179,
   "metadata": {},
   "outputs": [],
   "source": [
    "import math\n",
    "eps = 10e-9\n",
    "GAUSS_CONST =  0.5 * math.log(2 * math.pi)\n",
    "\n",
    "def lsignorm(y, mus, sgs):\n",
    "    lsgs = np.log(sgs)\n",
    "    \n",
    "    ln2 = math.log(2)\n",
    "    lny = np.log(y + eps )\n",
    "    ln1y = np.log(1 - y + eps )\n",
    "    ms = mus/sgs\n",
    "    s12 = (1/(2 * sgs))\n",
    "\n",
    "#     return - ln2 - lny + 2.0 * ln1y + lsgs +  + s12 * mus * mus \\\n",
    "#             - ms * lny + ms * ln1y + s12 * (lny - ln1y) ** 2\n",
    "\n",
    "#    return lny + ln1y + lsgs + GAUSS_CONST + (1.0/(2 * sgs * sgs)) * ( (y/(y-1)) - mus) ** 2\n",
    "\n",
    "    x = invsig(y)\n",
    "    \n",
    "    d = dinvsig(y)\n",
    "    \n",
    "    p = 1/(sgs * np.sqrt(np.pi * 2))\n",
    "    \n",
    "    e = np.exp(- 0.5 * ((x - mus)/sgs) ** 2)\n",
    "    \n",
    "    return lny + ln1y + lsgs + GAUSS_CONST  + 0.5 * (1.0/(sgs*sgs)) * (np.log(y / (1-y)) - mus) ** 2\n",
    "\n",
    "\n",
    "def signorm(y, mus, sgs):\n",
    "    \n",
    "    x = invsig(y)\n",
    "    \n",
    "    d = dinvsig(y)\n",
    "    \n",
    "    p = 1/(sgs * np.sqrt(np.pi * 2))\n",
    "    \n",
    "    e = np.exp(- 0.5 * ((x - mus)/sgs) ** 2)\n",
    "    \n",
    "    return d * p * e\n",
    "    \n",
    "    "
   ]
  },
  {
   "cell_type": "code",
   "execution_count": 181,
   "metadata": {},
   "outputs": [
    {
     "data": {
      "text/plain": [
       "0.9536669452523756"
      ]
     },
     "execution_count": 181,
     "metadata": {},
     "output_type": "execute_result"
    }
   ],
   "source": [
    "mu = -3\n",
    "sg = 1.5\n",
    "\n",
    "samples = np.random.rand(1000000)\n",
    "values = np.exp(-lsignorm(x, mu, sg))\n",
    "\n",
    "values.mean()"
   ]
  },
  {
   "cell_type": "code",
   "execution_count": 223,
   "metadata": {},
   "outputs": [
    {
     "data": {
      "text/plain": [
       "[<matplotlib.lines.Line2D at 0x13870f9e8>]"
      ]
     },
     "execution_count": 223,
     "metadata": {},
     "output_type": "execute_result"
    },
    {
     "data": {
      "image/png": "[encoded data removed]",
      "text/plain": [
       "<Figure size 432x288 with 1 Axes>"
      ]
     },
     "metadata": {
      "needs_background": "light"
     },
     "output_type": "display_data"
    }
   ],
   "source": [
    "mu = 10\n",
    "sg = 1.0\n",
    "\n",
    "x = np.linspace(0.005, 0.995, 1000)\n",
    "\n",
    "plt.plot(x, signorm(x, mu, sg), '-')\n",
    "plt.plot(x, np.exp(-lsignorm(x, mu, sg)), '--')"
   ]
  },
  {
   "cell_type": "code",
   "execution_count": 211,
   "metadata": {},
   "outputs": [
    {
     "data": {
      "image/png": "[encoded data removed]",
      "text/plain": [
       "<Figure size 432x288 with 1 Axes>"
      ]
     },
     "metadata": {
      "needs_background": "light"
     },
     "output_type": "display_data"
    }
   ],
   "source": [
    "samples = np.random.normal(mu, sg, size=(10000000,))\n",
    "samples = 1.0/(1 + np.exp(-samples))\n",
    "\n",
    "plt.hist(samples, bins=500);"
   ]
  },
  {
   "cell_type": "code",
   "execution_count": 276,
   "metadata": {},
   "outputs": [],
   "source": [
    "import math\n",
    "eps = 10e-11\n",
    "GAUSS_CONST =  0.5 * math.log(2 * math.pi)\n",
    "\n",
    "def lsiglap(y, mus, sgs):\n",
    "    lsgs = np.log(sgs)\n",
    "    \n",
    "    lny = np.log(y + eps )\n",
    "    ln1y = np.log(1 - y + eps )\n",
    "    \n",
    "\n",
    "#     return - ln2 - lny + 2.0 * ln1y + lsgs +  + s12 * mus * mus \\\n",
    "#             - ms * lny + ms * ln1y + s12 * (lny - ln1y) ** 2\n",
    "\n",
    "#    return lny + ln1y + lsgs + GAUSS_CONST + (1.0/(2 * sgs * sgs)) * ( (y/(y-1)) - mus) ** 2\n",
    "\n",
    "    x = invsig(y)    \n",
    "    d = dinvsig(y)\n",
    "\n",
    "    return lny + ln1y + np.log(2) + lsgs + np.abs(x - mus) / sgs\n",
    "\n",
    "\n",
    "def siglap(y, mus, bs):\n",
    "    \n",
    "    x = invsig(y)\n",
    "    \n",
    "    d = dinvsig(y)\n",
    "    \n",
    "    p = 1/(2 * bs)\n",
    "    \n",
    "    e = np.exp(- np.abs(x - mus)/bs)\n",
    "    \n",
    "    return d * p * e\n",
    "\n",
    "def laplace(x, mus, bs):\n",
    "        \n",
    "    p = 1/(2 * bs)\n",
    "    \n",
    "    e = np.exp(- np.abs(x - mus)/bs)\n",
    "    \n",
    "    return d * p * e"
   ]
  },
  {
   "cell_type": "code",
   "execution_count": 277,
   "metadata": {},
   "outputs": [
    {
     "data": {
      "text/plain": [
       "1.0009509927286024"
      ]
     },
     "execution_count": 277,
     "metadata": {},
     "output_type": "execute_result"
    }
   ],
   "source": [
    "mu = -0\n",
    "sg = 1.0\n",
    "\n",
    "samples = np.random.rand(10000000)\n",
    "values = siglap(x, mu, sg)\n",
    "\n",
    "values.mean()"
   ]
  },
  {
   "cell_type": "code",
   "execution_count": 278,
   "metadata": {},
   "outputs": [
    {
     "data": {
      "text/plain": [
       "1.0009509917812385"
      ]
     },
     "execution_count": 278,
     "metadata": {},
     "output_type": "execute_result"
    }
   ],
   "source": [
    "mu = -0\n",
    "sg = 1.0\n",
    "\n",
    "samples = np.random.rand(10000000)\n",
    "values = np.exp(-lsiglap(x, mu, sg))\n",
    "\n",
    "values.mean()"
   ]
  },
  {
   "cell_type": "code",
   "execution_count": 279,
   "metadata": {},
   "outputs": [
    {
     "data": {
      "text/plain": [
       "[<matplotlib.lines.Line2D at 0x131cf3b70>]"
      ]
     },
     "execution_count": 279,
     "metadata": {},
     "output_type": "execute_result"
    },
    {
     "data": {
      "image/png": "[encoded data removed]",
      "text/plain": [
       "<Figure size 432x288 with 1 Axes>"
      ]
     },
     "metadata": {
      "needs_background": "light"
     },
     "output_type": "display_data"
    }
   ],
   "source": [
    "mu = 0\n",
    "sg = 1.5\n",
    "\n",
    "x = np.linspace(0.001, 0.999, 10000)\n",
    "\n",
    "plt.plot(x, siglap(x, mu, sg), '-')\n",
    "plt.plot(x, np.exp(-lsiglap(x, mu, sg)), '--')"
   ]
  },
  {
   "cell_type": "code",
   "execution_count": 255,
   "metadata": {},
   "outputs": [
    {
     "data": {
      "image/png": "[encoded data removed]",
      "text/plain": [
       "<Figure size 432x288 with 1 Axes>"
      ]
     },
     "metadata": {
      "needs_background": "light"
     },
     "output_type": "display_data"
    }
   ],
   "source": [
    "samples = np.random.laplace(mu, sg, size=(100000000,))\n",
    "samples = 1.0/(1 + np.exp(-samples))\n",
    "\n",
    "plt.hist(samples, bins=1000);"
   ]
  },
  {
   "cell_type": "code",
   "execution_count": null,
   "metadata": {},
   "outputs": [],
   "source": []
  }
 ],
 "metadata": {
  "kernelspec": {
   "display_name": "Python 3",
   "language": "python",
   "name": "python3"
  },
  "language_info": {
   "codemirror_mode": {
    "name": "ipython",
    "version": 3
   },
   "file_extension": ".py",
   "mimetype": "text/x-python",
   "name": "python",
   "nbconvert_exporter": "python",
   "pygments_lexer": "ipython3",
   "version": "3.6.8"
  }
 },
 "nbformat": 4,
 "nbformat_minor": 2
}
